{
 "cells": [
  {
   "cell_type": "code",
   "execution_count": 1,
   "metadata": {},
   "outputs": [
    {
     "name": "stdout",
     "output_type": "stream",
     "text": [
      "Crossover Job applications assessment\n"
     ]
    }
   ],
   "source": [
    "print(\"Crossover Job applications assessment\")"
   ]
  },
  {
   "cell_type": "code",
   "execution_count": 2,
   "metadata": {},
   "outputs": [],
   "source": [
    "class InMemoryDatabase:\n",
    "    def __init__(self):\n",
    "        # A dictionary to store records. Each record is another dictionary.\n",
    "        self.data = {}\n",
    "\n",
    "    def set(self, key, field, value):\n",
    "        # Insert or update a field-value pair for the record associated with the key.\n",
    "        if key not in self.data:\n",
    "            self.data[key] = {}\n",
    "        self.data[key][field] = value\n",
    "        return \"\"\n",
    "\n",
    "    def compare_and_set(self, key, field, expected_value, new_value):\n",
    "        # Update the value of the field if it equals the expected value.\n",
    "        if key in self.data and field in self.data[key]:\n",
    "            if self.data[key][field] == expected_value:\n",
    "                self.data[key][field] = new_value\n",
    "                return \"true\"\n",
    "        return \"false\"\n",
    "\n",
    "    def compare_and_delete(self, key, field, expected_value):\n",
    "        # Remove the field if its value equals the expected value.\n",
    "        if key in self.data and field in self.data[key]:\n",
    "            if self.data[key][field] == expected_value:\n",
    "                del self.data[key][field]\n",
    "                return \"true\"\n",
    "        return \"false\"\n",
    "\n",
    "    def get(self, key, field):\n",
    "        # Return the value of the field in the record associated with the key.\n",
    "        if key in self.data and field in self.data[key]:\n",
    "            return str(self.data[key][field])\n",
    "        return \"\"\n",
    "\n",
    "def process_queries(queries):\n",
    "    db = InMemoryDatabase()\n",
    "    results = []\n",
    "\n",
    "    for query in queries:\n",
    "        operation = query[0]\n",
    "        timestamp = query[1]  # We won't use the timestamp in this level\n",
    "        key = query[2]\n",
    "\n",
    "        if operation == \"SET\":\n",
    "            field = query[3]\n",
    "            value = int(query[4])\n",
    "            result = db.set(key, field, value)\n",
    "        elif operation == \"COMPARE_AND_SET\":\n",
    "            field = query[3]\n",
    "            expected_value = int(query[4])\n",
    "            new_value = int(query[5])\n",
    "            result = db.compare_and_set(key, field, expected_value, new_value)\n",
    "        elif operation == \"COMPARE_AND_DELETE\":\n",
    "            field = query[3]\n",
    "            expected_value = int(query[4])\n",
    "            result = db.compare_and_delete(key, field, expected_value)\n",
    "        elif operation == \"GET\":\n",
    "            field = query[3]\n",
    "            result = db.get(key, field)\n",
    "\n",
    "        results.append(result)\n",
    "\n",
    "    return results\n",
    "\n"
   ]
  },
  {
   "cell_type": "code",
   "execution_count": 3,
   "metadata": {},
   "outputs": [
    {
     "name": "stdout",
     "output_type": "stream",
     "text": [
      "['', '', 'true', 'false', 'true', '', '9']\n"
     ]
    }
   ],
   "source": [
    "# Example usage\n",
    "queries = [\n",
    "    [\"SET\", \"0\", \"A\", \"B\", \"4\"],\n",
    "    [\"SET\", \"1\", \"A\", \"C\", \"6\"],\n",
    "    [\"COMPARE_AND_SET\", \"2\", \"A\", \"B\", \"4\", \"9\"],\n",
    "    [\"COMPARE_AND_SET\", \"3\", \"A\", \"C\", \"4\", \"9\"],\n",
    "    [\"COMPARE_AND_DELETE\", \"4\", \"A\", \"C\", \"6\"],\n",
    "    [\"GET\", \"5\", \"A\", \"C\"],\n",
    "    [\"GET\", \"6\", \"A\", \"B\"]\n",
    "]\n",
    "\n",
    "output = process_queries(queries)\n",
    "print(output)  # Expected output: [\"\", \"\", \"true\", \"false\", \"true\", \"\", \"9\"]"
   ]
  },
  {
   "cell_type": "code",
   "execution_count": 4,
   "metadata": {},
   "outputs": [
    {
     "name": "stdout",
     "output_type": "stream",
     "text": [
      "['', '', '', '30']\n"
     ]
    }
   ],
   "source": [
    "queries = [\n",
    "[\"SET\",\"0\",\"employee1\",\"age\",\"20\"], \n",
    "[\"SET\",\"1\",\"employee1\",\"age\",\"30\"], \n",
    "[\"SET\",\"2\",\"employee2\",\"age\",\"21\"], \n",
    "[\"GET\",\"3\",\"employee1\",\"age\"]]\n",
    "\n",
    "\n",
    "output = process_queries(queries)\n",
    "print(output)"
   ]
  }
 ],
 "metadata": {
  "kernelspec": {
   "display_name": ".venv",
   "language": "python",
   "name": "python3"
  },
  "language_info": {
   "codemirror_mode": {
    "name": "ipython",
    "version": 3
   },
   "file_extension": ".py",
   "mimetype": "text/x-python",
   "name": "python",
   "nbconvert_exporter": "python",
   "pygments_lexer": "ipython3",
   "version": "3.10.11"
  }
 },
 "nbformat": 4,
 "nbformat_minor": 2
}
