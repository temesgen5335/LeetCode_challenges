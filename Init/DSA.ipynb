{
 "cells": [
  {
   "cell_type": "markdown",
   "metadata": {},
   "source": [
    "\n",
    "## Introduction\n",
    "\n",
    "Welcome to my Jupyter notebook, where I document my learning journey through various data structures and algorithms. This notebook captures my experiences, key insights, and practical experiments as I delve into different topics. Here, you'll find code snippets, explanations, and reflections on the problems I encountered and solved.\n",
    "\n",
    "### Table of Contents\n",
    "\n",
    "    Arrays\n",
    "    Linked Lists\n",
    "    Stacks and Queues\n",
    "    Hashing\n",
    "    Trees\n",
    "    Graphs\n",
    "    Sorting Algorithms\n",
    "    Searching Algorithms\n",
    "    Dynamic Programming\n",
    "    Practice Problems"
   ]
  },
  {
   "cell_type": "code",
   "execution_count": null,
   "metadata": {},
   "outputs": [],
   "source": [
    "\n",
    "colors = ['green', 'yellow', 'white', 'black']\n",
    "\n",
    "def constant(colors):\n",
    "    print(colors[1])\n",
    "\n",
    "constant(colors)"
   ]
  },
  {
   "cell_type": "code",
   "execution_count": null,
   "metadata": {},
   "outputs": [],
   "source": []
  },
  {
   "cell_type": "code",
   "execution_count": null,
   "metadata": {},
   "outputs": [],
   "source": []
  }
 ],
 "metadata": {
  "language_info": {
   "name": "python"
  }
 },
 "nbformat": 4,
 "nbformat_minor": 2
}
