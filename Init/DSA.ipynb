{
 "cells": [
  {
<<<<<<< Updated upstream
   "cell_type": "markdown",
   "metadata": {},
   "source": [
    "\n",
    "## Introduction\n",
    "\n",
    "Welcome to my Jupyter notebook, where I document my learning journey through various data structures and algorithms. This notebook captures my experiences, key insights, and practical experiments as I delve into different topics. Here, you'll find code snippets, explanations, and reflections on the problems I encountered and solved.\n",
    "\n",
    "### Table of Contents\n",
    "\n",
    "    Arrays\n",
    "    Linked Lists\n",
    "    Stacks and Queues\n",
    "    Hashing\n",
    "    Trees\n",
    "    Graphs\n",
    "    Sorting Algorithms\n",
    "    Searching Algorithms\n",
    "    Dynamic Programming\n",
    "    Practice Problems"
=======
   "cell_type": "code",
   "execution_count": null,
   "metadata": {},
   "outputs": [],
   "source": []
  },
  {
   "cell_type": "code",
   "execution_count": null,
   "metadata": {},
   "outputs": [],
   "source": []
  },
  {
   "cell_type": "code",
   "execution_count": null,
   "metadata": {},
   "outputs": [],
   "source": []
  },
  {
   "cell_type": "markdown",
   "metadata": {},
   "source": [
    "#### median of two sorted arrays challenge\n"
>>>>>>> Stashed changes
   ]
  },
  {
   "cell_type": "code",
   "execution_count": null,
   "metadata": {},
   "outputs": [],
   "source": [
<<<<<<< Updated upstream
    "\n",
    "colors = ['green', 'yellow', 'white', 'black']\n",
    "\n",
    "def constant(colors):\n",
    "    print(colors[1])\n",
    "\n",
    "constant(colors)"
=======
    "class Solution(object):\n",
    "    def findMedianSortedArrays(self, nums1, nums2):\n",
    "        if len(nums1) > len(nums2):\n",
    "            nums1, nums2 = nums2, nums1\n",
    "        \n",
    "        m, n = len(nums1), len(nums2)\n",
    "        left, right = 0, m\n",
    "        half_length = (m + n + 1) // 2\n",
    "\n",
    "        while left <= right:\n",
    "            i = (left + right) // 2\n",
    "            j = half_length - i\n",
    "            \n",
    "            # Set the values for the left and right boundaries\n",
    "            nums1_left = nums1[i - 1] if i > 0 else float('-inf')\n",
    "            nums1_right = nums1[i] if i < m else float('inf')\n",
    "            nums2_left = nums2[j - 1] if j > 0 else float('-inf')\n",
    "            nums2_right = nums2[j] if j < n else float('inf')\n",
    "            \n",
    "            # Check if we have found the correct partitions\n",
    "            if nums1_left <= nums2_right and nums2_left <= nums1_right:\n",
    "                if (m + n) % 2 == 0:\n",
    "                    return (max(nums1_left, nums2_left) + min(nums1_right, nums2_right)) / 2\n",
    "                else:\n",
    "                    return max(nums1_left, nums2_left)\n",
    "            elif nums1_left > nums2_right:\n",
    "                right = i - 1  # Move left\n",
    "            else:\n",
    "                left = i + 1  # Move right\n",
    "        \n",
    "        raise ValueError(\"Input arrays are not sorted or of valid lengths.\")\n",
    "\n",
    "solution = Solution()\n",
    "print(\"example 1= \", solution.findMedianSortedArrays([1,3], [2,]))  \n",
    "print(\"example 2= \", solution.findMedianSortedArrays([1, 2], [3, 4]))  \n"
   ]
  },
  {
   "cell_type": "code",
   "execution_count": 2,
   "metadata": {},
   "outputs": [],
   "source": [
    "class Solution(object):\n",
    "    def findMedianSortedArrays(self, nums1, nums2):\n",
    "        # Step 1: Merge the two arrays\n",
    "        merged = nums1 + nums2\n",
    "        \n",
    "        # Step 2: Sort the merged array\n",
    "        merged.sort()\n",
    "        \n",
    "        # Step 3: Find the median\n",
    "        length = len(merged)\n",
    "        if length % 2 == 0:  # Even length\n",
    "            mid_index1 = length // 2\n",
    "            mid_index2 = mid_index1 - 1\n",
    "            median = (merged[mid_index1] + merged[mid_index2]) / 2\n",
    "        else:  # Odd length\n",
    "            mid_index = length // 2\n",
    "            median = merged[mid_index]\n",
    "        \n",
    "        return median\n",
    "            "
>>>>>>> Stashed changes
   ]
  },
  {
   "cell_type": "code",
   "execution_count": null,
   "metadata": {},
   "outputs": [],
   "source": []
  },
  {
<<<<<<< Updated upstream
   "cell_type": "code",
   "execution_count": null,
   "metadata": {},
   "outputs": [],
   "source": []
  }
 ],
 "metadata": {
  "language_info": {
   "name": "python"
=======
   "cell_type": "markdown",
   "metadata": {},
   "source": [
    "#### Minimum number of times to push buttons to type a word"
   ]
  },
  {
   "cell_type": "code",
   "execution_count": 19,
   "metadata": {},
   "outputs": [
    {
     "name": "stdout",
     "output_type": "stream",
     "text": [
      "5\n",
      "12\n",
      "24\n",
      "126\n",
      "63\n"
     ]
    }
   ],
   "source": [
    "from collections import Counter\n",
    "\n",
    "@staticmethod\n",
    "def min_pushes_to_type_word(word):\n",
    "    # Step 1: Count the frequency of each character in the word\n",
    "    global char_count \n",
    "    char_count = Counter(word)\n",
    "    \n",
    "    # Step 2: Get the frequencies sorted in descending order\n",
    "    frequencies = sorted(char_count.values(), reverse=True)\n",
    "\n",
    "    # Step 3: Calculate the minimum pushes required\n",
    "    total_pushes = 0\n",
    "    presses_per_key = 1  # Start with 1 push for the first key\n",
    "\n",
    "    for i, freq in enumerate(frequencies):\n",
    "        # Determine how many presses are needed based on the index\n",
    "        total_pushes += freq * presses_per_key\n",
    "        \n",
    "        # Every 3 letters will increase the presses needed\n",
    "        if i == 7:\n",
    "            presses_per_key += 1\n",
    "        elif i == 8:\n",
    "            presses_per_key += 2\n",
    "        elif i == 9:\n",
    "            presses_per_key += 3\n",
    "\n",
    "\n",
    "    return total_pushes\n",
    "\n",
    "# Example usage\n",
    "print(min_pushes_to_type_word(\"abcde\"))             # Output: 5\n",
    "print(min_pushes_to_type_word(\"xyzxyzxyzxyz\"))      # Output: 12\n",
    "print(min_pushes_to_type_word(\"aabbccddeeffgghhiiiiii\"))  # Output: 24\n",
    "print(min_pushes_to_type_word(\"abcdefghijklmnopqrstuvwxyz\")) \n",
    "print(min_pushes_to_type_word(\"alporfmdqsbhncwyu\"))"
   ]
  },
  {
   "cell_type": "code",
   "execution_count": 9,
   "metadata": {},
   "outputs": [
    {
     "data": {
      "text/plain": [
       "Counter({'i': 6,\n",
       "         'a': 2,\n",
       "         'b': 2,\n",
       "         'c': 2,\n",
       "         'd': 2,\n",
       "         'e': 2,\n",
       "         'f': 2,\n",
       "         'g': 2,\n",
       "         'h': 2})"
      ]
     },
     "execution_count": 9,
     "metadata": {},
     "output_type": "execute_result"
    }
   ],
   "source": [
    "char_count"
   ]
  },
  {
   "cell_type": "code",
   "execution_count": 17,
   "metadata": {},
   "outputs": [
    {
     "name": "stdout",
     "output_type": "stream",
     "text": [
      "7\n",
      "12\n",
      "40\n",
      "15\n",
      "83\n",
      "57\n"
     ]
    }
   ],
   "source": [
    "from collections import Counter\n",
    "\n",
    "def min_pushes_to_type_word(word):\n",
    "    # Step 1: Count the frequency of each character in the word\n",
    "    char_count = Counter(word)\n",
    "    \n",
    "    # Step 2: Get the frequencies sorted in descending order\n",
    "    frequencies = sorted(char_count.values(), reverse=True)\n",
    "\n",
    "    # Step 3: Calculate the minimum pushes required\n",
    "    total_pushes = 0\n",
    "\n",
    "    # Number of keys\n",
    "    total_keys = 8\n",
    "\n",
    "    # Determine how many keys will hold 4 letters and how many will hold 3\n",
    "    keys_with_3_letters = total_keys - 2  # 6 keys will hold 3 letters\n",
    "    keys_with_4_letters = 2  # 2 keys will hold 4 letters\n",
    "\n",
    "    presses_per_key = 1  # Start with 1 push for the first letter on a key\n",
    "\n",
    "    for i, freq in enumerate(frequencies):\n",
    "        if i < keys_with_3_letters * 3:  # For the first 18 letters\n",
    "            total_pushes += freq * presses_per_key\n",
    "        else:  # For the last 8 letters (4 on each of the last 2 keys)\n",
    "            presses_per_key = 2 + (i - keys_with_3_letters * 3) // 4  # Increase for the 4-letter keys\n",
    "            total_pushes += freq * presses_per_key\n",
    "        \n",
    "        # Increase presses_per_key every 3 letters in the first group\n",
    "        if (i + 1) % 3 == 0 and i < keys_with_3_letters * 3 - 1:\n",
    "            presses_per_key += 1\n",
    "            \n",
    "    return total_pushes\n",
    "\n",
    "# Example usage\n",
    "print(min_pushes_to_type_word(\"abcde\"))             # Output: 5\n",
    "print(min_pushes_to_type_word(\"xyzxyzxyzxyz\"))      # Output: 12\n",
    "print(min_pushes_to_type_word(\"aabbccddeeffgghhiiiiii\"))  # Output: 24\n",
    "print(min_pushes_to_type_word(\"abcdefgh\"))           # Example with 8 characters\n",
    "print(min_pushes_to_type_word(\"abcdefghijklmnopqrstuvwxyz\")) \n",
    "print(min_pushes_to_type_word(\"alporfmdqsbhncwyu\"))"
   ]
  }
 ],
 "metadata": {
  "kernelspec": {
   "display_name": ".venv",
   "language": "python",
   "name": "python3"
  },
  "language_info": {
   "codemirror_mode": {
    "name": "ipython",
    "version": 3
   },
   "file_extension": ".py",
   "mimetype": "text/x-python",
   "name": "python",
   "nbconvert_exporter": "python",
   "pygments_lexer": "ipython3",
   "version": "3.10.11"
>>>>>>> Stashed changes
  }
 },
 "nbformat": 4,
 "nbformat_minor": 2
}
